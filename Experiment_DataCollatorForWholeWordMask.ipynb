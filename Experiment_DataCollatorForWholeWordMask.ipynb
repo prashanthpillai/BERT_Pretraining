{
 "cells": [
  {
   "cell_type": "code",
   "execution_count": 36,
   "id": "ed1732e2",
   "metadata": {},
   "outputs": [],
   "source": [
    "import os\n",
    "from pathlib import Path\n",
    "from tqdm import tqdm\n",
    "import transformers\n",
    "from transformers import AutoConfig, AutoTokenizer, AutoModelForMaskedLM, BertForMaskedLM, set_seed\n",
    "from transformers import Trainer, TrainingArguments\n",
    "from transformers import DataCollatorForLanguageModeling, DataCollatorForWholeWordMask\n",
    "from transformers import EarlyStoppingCallback, IntervalStrategy, SchedulerType\n",
    "import math\n",
    "from datasets import load_dataset\n",
    "import pandas as pd\n",
    "from sklearn.model_selection import train_test_split\n",
    "import torch"
   ]
  },
  {
   "cell_type": "code",
   "execution_count": 2,
   "id": "11770f2f",
   "metadata": {},
   "outputs": [],
   "source": [
    "model_name = 'm3rg-iitd/matscibert'\n",
    "tokenizer = AutoTokenizer.from_pretrained(model_name)\n",
    "model = BertForMaskedLM.from_pretrained(model_name)"
   ]
  },
  {
   "cell_type": "code",
   "execution_count": 3,
   "id": "7a575d6e",
   "metadata": {},
   "outputs": [],
   "source": [
    "text = 'In laminar flow, the fluid layers slide\\\n",
    "smoothly over each other. Momentum\\\n",
    "exchange is at the molecular scale. Instabilities are damped by viscosity, producing viscous shear forces that resist the relative\\\n",
    "motion of adjacent fluid layers. The velocity\\\n",
    "profile of laminar flow increases uniformly\\\n",
    "in a parabolic fashion from the pipe wall\\\n",
    "inward across the pipe'"
   ]
  },
  {
   "cell_type": "code",
   "execution_count": 17,
   "id": "6a1a73f4",
   "metadata": {},
   "outputs": [],
   "source": [
    "tokenized = tokenizer(text, padding='max_length', max_length=512)"
   ]
  },
  {
   "cell_type": "code",
   "execution_count": 18,
   "id": "b26e75a6",
   "metadata": {},
   "outputs": [],
   "source": [
    "aa = DataCollatorForWholeWordMask(tokenizer=tokenizer)"
   ]
  },
  {
   "cell_type": "code",
   "execution_count": 33,
   "id": "e3906c00",
   "metadata": {},
   "outputs": [
    {
     "data": {
      "text/plain": [
       "'[CLS] in laminar flow, the fluid layers slidesmoothly over each other. momentumexchange is at the molecular scale. instabilities are damped by viscosity, producing viscous shear forces that resist the relativemotion of adjacent fluid layers. the velocityprofile of laminar flow increases uniformlyin a parabolic fashion from the pipe wallinward across the pipe [SEP]'"
      ]
     },
     "execution_count": 33,
     "metadata": {},
     "output_type": "execute_result"
    }
   ],
   "source": [
    "inp = tokenized['input_ids']\n",
    "inp = [x for x in inp if x!=0]\n",
    "tokenizer.decode(inp)"
   ]
  },
  {
   "cell_type": "code",
   "execution_count": 34,
   "id": "152766ad",
   "metadata": {},
   "outputs": [
    {
     "data": {
      "text/plain": [
       "'[CLS] in laminar flow [MASK] [MASK] [MASK] layers slidesmoothly [MASK] each [MASK]. momentumexchange is at the [MASK] scale. instabilities are damped by [MASK], [MASK] viscous shear forces that resist [MASK] relativemotion of adjacent [MASK] layers [MASK] the velocityprofile of laminar flow increases uniformlyin a parabolic fashion from the pipe wallinward across [MASK] pipe [SEP]'"
      ]
     },
     "execution_count": 34,
     "metadata": {},
     "output_type": "execute_result"
    }
   ],
   "source": [
    "out = aa([tokenized])['input_ids'][0]\n",
    "out = [x for x in out if x!=0]\n",
    "tokenizer.decode(out)"
   ]
  },
  {
   "cell_type": "code",
   "execution_count": null,
   "id": "cdcb396c",
   "metadata": {},
   "outputs": [],
   "source": []
  },
  {
   "cell_type": "code",
   "execution_count": null,
   "id": "e692dbd4",
   "metadata": {},
   "outputs": [],
   "source": []
  },
  {
   "cell_type": "code",
   "execution_count": null,
   "id": "ddebee11",
   "metadata": {},
   "outputs": [],
   "source": []
  },
  {
   "cell_type": "code",
   "execution_count": null,
   "id": "624284f9",
   "metadata": {},
   "outputs": [],
   "source": []
  }
 ],
 "metadata": {
  "kernelspec": {
   "display_name": "Python 3",
   "language": "python",
   "name": "python3"
  },
  "language_info": {
   "codemirror_mode": {
    "name": "ipython",
    "version": 3
   },
   "file_extension": ".py",
   "mimetype": "text/x-python",
   "name": "python",
   "nbconvert_exporter": "python",
   "pygments_lexer": "ipython3",
   "version": "3.7.12"
  }
 },
 "nbformat": 4,
 "nbformat_minor": 5
}
