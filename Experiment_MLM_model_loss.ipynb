{
 "cells": [
  {
   "cell_type": "code",
   "execution_count": 21,
   "id": "e4b33ae4",
   "metadata": {},
   "outputs": [],
   "source": [
    "import os\n",
    "from pathlib import Path\n",
    "from tqdm import tqdm\n",
    "import transformers\n",
    "from transformers import AutoConfig, AutoTokenizer, AutoModelForMaskedLM, BertForMaskedLM, set_seed, BertTokenizer\n",
    "from transformers import Trainer, TrainingArguments\n",
    "from transformers import DataCollatorForLanguageModeling, DataCollatorForWholeWordMask\n",
    "from transformers import EarlyStoppingCallback, IntervalStrategy, SchedulerType\n",
    "import math\n",
    "from datasets import load_dataset\n",
    "import pandas as pd\n",
    "from sklearn.model_selection import train_test_split\n",
    "import torch\n",
    "import random\n",
    "from torch.nn import BCEWithLogitsLoss, CrossEntropyLoss, MSELoss"
   ]
  },
  {
   "cell_type": "code",
   "execution_count": 2,
   "id": "ee992d56",
   "metadata": {},
   "outputs": [
    {
     "name": "stderr",
     "output_type": "stream",
     "text": [
      "Some weights of the model checkpoint at allenai/scibert_scivocab_uncased were not used when initializing BertForMaskedLM: ['cls.seq_relationship.weight', 'cls.seq_relationship.bias']\n",
      "- This IS expected if you are initializing BertForMaskedLM from the checkpoint of a model trained on another task or with another architecture (e.g. initializing a BertForSequenceClassification model from a BertForPreTraining model).\n",
      "- This IS NOT expected if you are initializing BertForMaskedLM from the checkpoint of a model that you expect to be exactly identical (initializing a BertForSequenceClassification model from a BertForSequenceClassification model).\n",
      "Some weights of the model checkpoint at bert-base-uncased were not used when initializing BertForMaskedLM: ['cls.seq_relationship.weight', 'cls.seq_relationship.bias']\n",
      "- This IS expected if you are initializing BertForMaskedLM from the checkpoint of a model trained on another task or with another architecture (e.g. initializing a BertForSequenceClassification model from a BertForPreTraining model).\n",
      "- This IS NOT expected if you are initializing BertForMaskedLM from the checkpoint of a model that you expect to be exactly identical (initializing a BertForSequenceClassification model from a BertForSequenceClassification model).\n"
     ]
    }
   ],
   "source": [
    "model_name = 'm3rg-iitd/matscibert'\n",
    "tokenizer = AutoTokenizer.from_pretrained(model_name)\n",
    "scibert_model = BertForMaskedLM.from_pretrained('allenai/scibert_scivocab_uncased')\n",
    "matsci_model = BertForMaskedLM.from_pretrained(model_name)\n",
    "geosci_model = BertForMaskedLM.from_pretrained('/home/ppillai6/Desktop/BERT_training/geoscibert/checkpoint-20190/')\n",
    "\n",
    "bert_tokenizer = BertTokenizer.from_pretrained('bert-base-uncased')\n",
    "bert_model = BertForMaskedLM.from_pretrained('bert-base-uncased')"
   ]
  },
  {
   "cell_type": "code",
   "execution_count": 12,
   "id": "845c409a",
   "metadata": {},
   "outputs": [
    {
     "name": "stdout",
     "output_type": "stream",
     "text": [
      "The key for determining electrofacies is core and log data integration. Recognition of electrofacies in a wide variety of depositional environments can be achieved through inductive and deductive methodologies. In two different fields located in Argentina\n"
     ]
    }
   ],
   "source": [
    "train_df = pd.read_csv('/home/ppillai6/Desktop/BERT_training/datasets/Geo_Dataset/Train.csv')\n",
    "paras = train_df['Text'].tolist()\n",
    "\n",
    "text = paras[-1] #500,250\n",
    "print(text)"
   ]
  },
  {
   "cell_type": "code",
   "execution_count": 13,
   "id": "e5c33a23",
   "metadata": {},
   "outputs": [
    {
     "name": "stdout",
     "output_type": "stream",
     "text": [
      "512\n"
     ]
    },
    {
     "data": {
      "text/plain": [
       "'[CLS] the key for determining electrofacies is core and log data integration. recognition of electrofacies in a wide variety of depositional environments can be achieved through inductive and deductive methodologies. in two different fields located in argentina [SEP]'"
      ]
     },
     "execution_count": 13,
     "metadata": {},
     "output_type": "execute_result"
    }
   ],
   "source": [
    "# Tokenized input\n",
    "tokenized = tokenizer(text, padding='max_length', max_length=512, truncation=True)\n",
    "inp = tokenized['input_ids']\n",
    "print(len(inp))\n",
    "inp = [x for x in inp if x!=0]\n",
    "tokenizer.decode(inp)"
   ]
  },
  {
   "cell_type": "code",
   "execution_count": 14,
   "id": "ce4334ba",
   "metadata": {},
   "outputs": [
    {
     "data": {
      "text/plain": [
       "'[CLS] the key for determining electrofacies [MASK] core [MASK] log data integration. recognition of electrofacies in a [MASK] varietytise [MASK] [MASK] environments can be achieved through inductive and deductive methodologies. in two different unnecessary located in argentina [SEP]'"
      ]
     },
     "execution_count": 14,
     "metadata": {},
     "output_type": "execute_result"
    }
   ],
   "source": [
    "# Masked input\n",
    "aa = DataCollatorForWholeWordMask(tokenizer=tokenizer, mlm=0.15)\n",
    "masked_inp = aa([tokenized])['input_ids'][0]\n",
    "masked_inp = [x for x in masked_inp if x!=0]\n",
    "masked_text = tokenizer.decode(masked_inp)\n",
    "tokenizer.decode(masked_inp)"
   ]
  },
  {
   "cell_type": "code",
   "execution_count": 15,
   "id": "b54e6ff5",
   "metadata": {},
   "outputs": [],
   "source": [
    "# Prepare data\n",
    "inputs = tokenized\n",
    "inputs['labels'] = inputs['input_ids']\n",
    "inputs['input_ids'] =list(aa([tokenized])['input_ids'][0].numpy())\n",
    "inputs = {x:torch.tensor([inputs[x]]) for x in inputs.keys()}"
   ]
  },
  {
   "cell_type": "code",
   "execution_count": 39,
   "id": "863389fb",
   "metadata": {},
   "outputs": [],
   "source": [
    "def compute_bert_loss(prediction_scores, labels, vocab_size):\n",
    "    loss_fct = CrossEntropyLoss()        \n",
    "    loss = loss_fct(prediction_scores.view(-1, vocab_size), labels.view(-1))\n",
    "    return loss "
   ]
  },
  {
   "cell_type": "code",
   "execution_count": 40,
   "id": "d5e47df5",
   "metadata": {},
   "outputs": [
    {
     "name": "stdout",
     "output_type": "stream",
     "text": [
      "Loss: tensor(16.5412, grad_fn=<NllLossBackward0>)\n",
      "Computed loss tensor(16.5412, grad_fn=<NllLossBackward0>)\n"
     ]
    },
    {
     "data": {
      "text/plain": [
       "'. the key for determining electrofacies is core and log data integration. recognition of electrofacies in a wide variety of depositional environments can be achieved through core and log analysis methodologies. in the different exped sites in argentina, the mining sites were conducted, core log log minings, the the deposition sites in. the deposition deposition sites in argentina. core core the electroies, core log log data integration the of these the environments deposition sites in argentina. depositional environments can be achieved through core log log mining analysis.. the mining industrial sites in.. mining and log of electro... a........ the...... the.. of... a.., argentina........ the core log log mining analysis. the the... conducted the core log mining techniques, the the exped sites sites argentina..al have core log log recognition recognition, core core log log analysis, the deposition deposition sites argentina. the exped sites.. the log sitess. the the exped sites sites argentina.. the electro.. core log data data., the methodology core electro,. the the deposition sites sites, primary key to these electrofacies core core log log log data integration techniques the the core log data data integration the recognition of electroies in a wide range of in deposition deposition sites of argentina. differental environments have were.. the. of,,ies in core for core electro is identification through electro logies in a the range of electroal environments can and environments in in a range of of depositional environments can be both core core log log sites.. case to the electroposs, core and data datas.. electro -al,, the.. the mining of sites argentina. core and log data integration integration core log log data integration. recognition patterns these electroies in a wide range of the deposition deposition sites of of of depositional environments core log data recognition both, core log log mining studies,. the deposition exped sites the. the deposition exped sites the argentina...... the the exped sites sites argentina.. deposition expeds..................,. argentina............................. the the erup of sites the argentina....... the. in sites. argentina. conclusion.'"
      ]
     },
     "execution_count": 40,
     "metadata": {},
     "output_type": "execute_result"
    }
   ],
   "source": [
    "# SciBERT Model predictions\n",
    "output = scibert_model(**inputs)\n",
    "loss = output.loss\n",
    "print('Loss:', loss)\n",
    "print('Computed loss', compute_bert_loss(output[1], inputs['labels'], tokenizer.vocab_size))\n",
    "\n",
    "predictions = output[1].detach().numpy()[0,:,:]\n",
    "tok_preds = predictions.argmax(axis=1)\n",
    "tokenizer.decode(tok_preds)"
   ]
  },
  {
   "cell_type": "code",
   "execution_count": 41,
   "id": "8e32b99d",
   "metadata": {},
   "outputs": [
    {
     "name": "stdout",
     "output_type": "stream",
     "text": [
      "Loss: tensor(15.2873, grad_fn=<NllLossBackward0>)\n",
      "Computed loss tensor(15.2873, grad_fn=<NllLossBackward0>)\n"
     ]
    },
    {
     "data": {
      "text/plain": [
       "'and the key for determining electrofacies is core and log data integration. recognition of electrofacies in a wide variety of depositional environments can be achieved through core and logmetric methodologies. in the different depositions in argentina. the core data.. in core log logss conclusions the the environments in in, the deposition depositionss argentina. core core the analysis analysis through core log log data integration recognition recognition the theies in a wide variety variety depositional environments can be achieved core core log logmetric methods. the two deposition depositionss argentina. the the the and of of the the the the the of of the the the the the of the the the the the the the the the the the the the the the of and the the the the and the the the the the the data methods the introduction the - the the the the the - the in the. the the and methodss in the the the core log logfacmetric. introduction the the inmetrics the two deposition depositions the. the depositions the the the thefacs introduction the the depositionss argentina. the the of the the the the - and the the the the the of the the the the the the the of in the the the the electro and the the the the and and and of in the the the and data ) the introduction the the the is the the the the the the is the the the the the the the the the the the the the the of - analysis the 1 and and data and introduction the the - the in a introduction the the and in in the the the electro methodss in the the the the the the the the the the in the the the the the the thes in the the the the the electro distribution the the the the and the the the the the the the the the the the the and and and the the the the the data data ) development introduction the and. in the the the the the the the the the the and the the the the theings the the the the thes in the the the the methods of the the the deposition depositions in the the the the the the the the the the of the the the the the thes in the the the the the the the the the the the the the the the the the the the the the the the the the the the the the the the the of the the the the the of of the the the the the the the the the the the the the of the the the the the the of the the the the the. the the the the the'"
      ]
     },
     "execution_count": 41,
     "metadata": {},
     "output_type": "execute_result"
    }
   ],
   "source": [
    "# MatSciBERT Model predictions\n",
    "output = matsci_model(**inputs)\n",
    "loss = output.loss\n",
    "print('Loss:', loss)\n",
    "print('Computed loss', compute_bert_loss(output[1], inputs['labels'], tokenizer.vocab_size))\n",
    "\n",
    "predictions = output[1].detach().numpy()[0,:,:]\n",
    "tok_preds = predictions.argmax(axis=1)\n",
    "tokenizer.decode(tok_preds)"
   ]
  },
  {
   "cell_type": "code",
   "execution_count": 42,
   "id": "f1793022",
   "metadata": {},
   "outputs": [
    {
     "name": "stdout",
     "output_type": "stream",
     "text": [
      "Loss: tensor(16.9911, grad_fn=<NllLossBackward0>)\n",
      "Computed loss tensor(16.9911, grad_fn=<NllLossBackward0>)\n"
     ]
    },
    {
     "data": {
      "text/plain": [
       "'. the key for determining electrofacies is core and log data integration. recognition of electrofacies in a wide variety of depositional environments can be achieved through core and loggraphic methodologies. in the different facs in argentina. of oil froms the. sediment and sediments in. of of environments... the fac facs in. from core for reservoirfacies is core and data data integration the recognition thefacies in in wide variety variety depositional environments can be achieved sediment core core loggraphic methodologies. the many deposition facs. argentina.. of log datasfac.. the the fac facs the.. of core data integration... core log data integration... the fac information determiningfacfac accurately from core log data fac fac through integration and data data integration the recognition the - types in the recognition thefac, in a variety variety deposition deposition facies wide variety variety core core log logfac methodologies. these many sediment loggraphic. the many deposition facs argentina. the facs argentina froms sedimentgraphic methodologies. the the facss argentina. of froms in.. and data data.. through core data data integration. of and data integration... the key to determining electrofacies from core and log data integration.. the core and data data integration. recognition determining core - data integration.. recognizing facies identification understanding the identification knowledge sediment reservoir determining correlation. identification core and log data datafacies through core and data integration integration recognition recognizing electro log loggraphic data recognition of depositional in a be achieved core sediment facs in argentina of of understanding determiningfacies. core data sedimentgraphic.. the two fac oils inies in correlation to determining electrofacies through data log data data.. the the to determining reservoir -ies from core and reservoir integration.. effective core log data data. recognition recognition the -ies distribution a a recognition of depositionies in a a variety variety sediment depositional log loggraphicgraphic both core core log loggraphic. integration many deposition deposition sedimentgraphic methodologies in two deposition facs in argentina., fac sedimentary. the, faclog in argentina. the fac facs in argentina., core data... of of fac... 1 the fac fac. 1. the technology accurately determiningfacfac in core and log data integration. identification effective core log data integration. recognition the -fac identification... the principles fac determining infac types environments sedimental environments can achieved by core core logfac methodologies. a the.'"
      ]
     },
     "execution_count": 42,
     "metadata": {},
     "output_type": "execute_result"
    }
   ],
   "source": [
    "# Geosci Model predictions\n",
    "output = geosci_model(**inputs)\n",
    "loss = output.loss\n",
    "print('Loss:', loss)\n",
    "print('Computed loss', compute_bert_loss(output[1], inputs['labels'], tokenizer.vocab_size))\n",
    "\n",
    "predictions = output[1].detach().numpy()[0,:,:]\n",
    "tok_preds = predictions.argmax(axis=1)\n",
    "tokenizer.decode(tok_preds)"
   ]
  },
  {
   "cell_type": "code",
   "execution_count": 43,
   "id": "acdba4bf",
   "metadata": {},
   "outputs": [
    {
     "name": "stdout",
     "output_type": "stream",
     "text": [
      "Loss: tensor(13.4599, grad_fn=<NllLossBackward0>)\n",
      "Computed loss tensor(13.4599, grad_fn=<NllLossBackward0>)\n"
     ]
    },
    {
     "data": {
      "text/plain": [
       "'.. the key for determining electrofacies is the and and data integration. recognition of electrofas in a different in of of and and environment can be achieved through inductive and deductive methodologies. in two different and and in a \" \" in and and and and and different : the electro electro : is is and and and and. recognition the electro the and and a different in of and and and and, the, the the in electro the and and and and and in, and and environments in and and the a the in the the the the the the the the the the the the the the the the the the the and and and the the the the the a the in and and and and and the and also the the the electro electro per is is and and and and ) the recognition the electro vas in different different in in and and and and and different different environment achieved in through both induc, and de - method and and different and different electro environments and environments and in a different in in and of in and and and and achieved through induc, - de - - de andologies. in and environments and and and the the are and the the the the and and and and and and and and the the different and and and and different environment can also achieved both induc, and - de andsologies, in and and and and and and the and and a different in in and and and the the the, the the the the in the the the : de and and de - method the, the the the in and the the the the the the the can and and and the the, and is the and and and and the the the the and different and in and and different different also also direct the both de ind methods are and and and and the the the the a the the the the the the the the the the the the the the the the the the the the the the the the, the and and the the the the the electro of is is and and and the the the the and and the va in \" different different of and of and and the the of of of in the is and method and, the,, and and \" is, and and the, and the a in the the the the and and and the the and achieved achieved theuc : and de and and - - ands.. the and is is and and and different in different in and and and environment can also achieved both in inucuc, and deductive methodologies, and and and and the the'"
      ]
     },
     "execution_count": 43,
     "metadata": {},
     "output_type": "execute_result"
    }
   ],
   "source": [
    "# Vanilla BERT predictions\n",
    "bert_tokenized = bert_tokenizer(text, padding='max_length', max_length=512, truncation=True)\n",
    "bert_inputs = bert_tokenized\n",
    "bert_inputs['labels'] = bert_inputs['input_ids']\n",
    "bert_inputs['input_ids'] = bert_tokenizer(masked_text, padding='max_length', max_length=512, truncation=True)['input_ids']\n",
    "bert_inputs = {x:torch.tensor([bert_inputs[x]]) for x in bert_inputs.keys()}\n",
    "\n",
    "output = bert_model(**bert_inputs)\n",
    "loss = output.loss\n",
    "print('Loss:', loss)\n",
    "print('Computed loss', compute_bert_loss(output[1], bert_inputs['labels'], bert_tokenizer.vocab_size))\n",
    "\n",
    "predictions = output[1].detach().numpy()[0,:,:]\n",
    "tok_preds = predictions.argmax(axis=1)\n",
    "bert_tokenizer.decode(tok_preds)"
   ]
  },
  {
   "cell_type": "code",
   "execution_count": 28,
   "id": "3775f8ff",
   "metadata": {},
   "outputs": [],
   "source": []
  },
  {
   "cell_type": "code",
   "execution_count": null,
   "id": "8f0b95b0",
   "metadata": {},
   "outputs": [],
   "source": []
  }
 ],
 "metadata": {
  "kernelspec": {
   "display_name": "Python 3",
   "language": "python",
   "name": "python3"
  },
  "language_info": {
   "codemirror_mode": {
    "name": "ipython",
    "version": 3
   },
   "file_extension": ".py",
   "mimetype": "text/x-python",
   "name": "python",
   "nbconvert_exporter": "python",
   "pygments_lexer": "ipython3",
   "version": "3.7.12"
  }
 },
 "nbformat": 4,
 "nbformat_minor": 5
}
